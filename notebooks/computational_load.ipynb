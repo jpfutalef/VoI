{
 "cells": [
  {
   "cell_type": "code",
   "id": "initial_id",
   "metadata": {
    "collapsed": true,
    "ExecuteTime": {
     "end_time": "2025-01-29T17:28:10.961589Z",
     "start_time": "2025-01-29T17:28:10.562998Z"
    }
   },
   "source": [
    "import numpy as np\n",
    "import dill as pickle"
   ],
   "outputs": [],
   "execution_count": 1
  },
  {
   "metadata": {},
   "cell_type": "code",
   "outputs": [],
   "execution_count": null,
   "source": [
    "# Create scenarios of simulation\n",
    "Nl = 100    # Num of scenarios\n",
    "max_sim_time = 50   # Max duration (in seconds) of artificial scenarios\n",
    "dt = 0.1 # s\n",
    "\n",
    "# Create scenarios\n",
    "artificial_sim_times = [np.arange()\n",
    "\n",
    "                        # Simulation time\n",
    "sim_time = np.linspace(0, 60, 100)\n",
    "\n",
    "# Execution time realizations\n",
    "n_real = 50\n",
    "exec_time = np.zeros((n_real, len(sim_time)))\n",
    "for i in range(n_real):\n",
    "    for j in range(1, len(sim_time)):\n",
    "        increment = np.random.uniform(0.5, 2.0)\n",
    "        exec_time[i, j] = exec_time[i, j-1] + increment"
   ],
   "id": "87de7d1ae6074bb9"
  }
 ],
 "metadata": {
  "kernelspec": {
   "display_name": "Python 3",
   "language": "python",
   "name": "python3"
  },
  "language_info": {
   "codemirror_mode": {
    "name": "ipython",
    "version": 2
   },
   "file_extension": ".py",
   "mimetype": "text/x-python",
   "name": "python",
   "nbconvert_exporter": "python",
   "pygments_lexer": "ipython2",
   "version": "2.7.6"
  }
 },
 "nbformat": 4,
 "nbformat_minor": 5
}
