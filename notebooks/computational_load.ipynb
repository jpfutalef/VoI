{
 "cells": [
  {
   "cell_type": "code",
   "id": "initial_id",
   "metadata": {
    "collapsed": true,
    "ExecuteTime": {
     "end_time": "2025-03-21T16:50:08.781923Z",
     "start_time": "2025-03-21T16:50:08.743657Z"
    }
   },
   "source": [
    "import numpy as np\n",
    "import dill as pickle\n",
    "from pathlib import Path\n",
    "import os\n",
    "\n",
    "# Show working directory\n",
    "os.getcwd()"
   ],
   "outputs": [
    {
     "data": {
      "text/plain": [
       "'D:\\\\projects\\\\GreyBoxModels'"
      ]
     },
     "execution_count": 1,
     "metadata": {},
     "output_type": "execute_result"
    }
   ],
   "execution_count": 1
  },
  {
   "metadata": {
    "ExecuteTime": {
     "end_time": "2025-03-21T16:50:35.661644Z",
     "start_time": "2025-03-21T16:50:35.651371Z"
    }
   },
   "cell_type": "code",
   "source": [
    "# Specify here if moving the notebook to another directory\n",
    "root = Path(\"../../CPS-IPTLCN/\")\n",
    "root.resolve()"
   ],
   "id": "12adb36b35cabf59",
   "outputs": [
    {
     "data": {
      "text/plain": [
       "WindowsPath('D:/CPS-IPTLCN')"
      ]
     },
     "execution_count": 2,
     "metadata": {},
     "output_type": "execute_result"
    }
   ],
   "execution_count": 2
  },
  {
   "metadata": {},
   "cell_type": "code",
   "outputs": [],
   "execution_count": null,
   "source": "# Load the scenarios\n",
   "id": "87de7d1ae6074bb9"
  }
 ],
 "metadata": {
  "kernelspec": {
   "display_name": "Python 3",
   "language": "python",
   "name": "python3"
  },
  "language_info": {
   "codemirror_mode": {
    "name": "ipython",
    "version": 2
   },
   "file_extension": ".py",
   "mimetype": "text/x-python",
   "name": "python",
   "nbconvert_exporter": "python",
   "pygments_lexer": "ipython2",
   "version": "2.7.6"
  }
 },
 "nbformat": 4,
 "nbformat_minor": 5
}
